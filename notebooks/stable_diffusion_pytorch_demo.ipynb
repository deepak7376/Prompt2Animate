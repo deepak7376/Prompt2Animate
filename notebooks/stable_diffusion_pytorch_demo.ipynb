{
  "nbformat": 4,
  "nbformat_minor": 0,
  "metadata": {
    "colab": {
      "provenance": [],
      "gpuType": "T4"
    },
    "kernelspec": {
      "name": "python3",
      "display_name": "Python 3"
    },
    "language_info": {
      "name": "python"
    },
    "accelerator": "GPU"
  },
  "cells": [
    {
      "cell_type": "code",
      "source": [
        "!git clone https://github.com/deepak7376/stable_diffusion_pytorch.git"
      ],
      "metadata": {
        "colab": {
          "base_uri": "https://localhost:8080/"
        },
        "id": "i4Pb3vcrmKOO",
        "outputId": "54119f4c-a64a-4a66-e66e-11d47682adec"
      },
      "execution_count": 1,
      "outputs": [
        {
          "output_type": "stream",
          "name": "stdout",
          "text": [
            "Cloning into 'stable_diffusion_pytorch'...\n",
            "remote: Enumerating objects: 56, done.\u001b[K\n",
            "remote: Counting objects: 100% (56/56), done.\u001b[K\n",
            "remote: Compressing objects: 100% (41/41), done.\u001b[K\n",
            "remote: Total 56 (delta 12), reused 46 (delta 8), pack-reused 0\u001b[K\n",
            "Receiving objects: 100% (56/56), 2.04 MiB | 5.55 MiB/s, done.\n",
            "Resolving deltas: 100% (12/12), done.\n"
          ]
        }
      ]
    },
    {
      "cell_type": "code",
      "source": [
        "!pip install -r requirements.txt"
      ],
      "metadata": {
        "id": "29m8tG_1mYd6"
      },
      "execution_count": null,
      "outputs": []
    },
    {
      "cell_type": "code",
      "source": [
        "import os\n",
        "\n",
        "# List contents of the current directory\n",
        "print(\"Contents of current directory:\")\n",
        "print(os.listdir('.'))\n",
        "\n",
        "# Change directory\n",
        "os.chdir('/content/stable_diffusion_pytorch')\n",
        "\n",
        "# List contents of the new directory\n",
        "print(\"\\nContents of the new directory:\")\n",
        "print(os.listdir('.'))"
      ],
      "metadata": {
        "colab": {
          "base_uri": "https://localhost:8080/"
        },
        "id": "k9P26CLNmPW1",
        "outputId": "71b24643-e0f2-4237-e79f-fdbd4f9b8762"
      },
      "execution_count": 2,
      "outputs": [
        {
          "output_type": "stream",
          "name": "stdout",
          "text": [
            "Contents of current directory:\n",
            "['.config', 'stable_diffusion_pytorch', 'sample_data']\n",
            "\n",
            "Contents of the new directory:\n",
            "['requirements.txt', '.gitignore', 'src', '.git', 'data', 'notebooks', 'version.py', 'setup.py', 'README.md', 'LICENSE', 'saved_models', 'assets']\n"
          ]
        }
      ]
    },
    {
      "cell_type": "markdown",
      "source": [
        "## Text-to-Image Generation"
      ],
      "metadata": {
        "id": "VkmutkIZqN8O"
      }
    },
    {
      "cell_type": "code",
      "source": [
        "!python src/inference.py --prompt \"people of earth leaving to mars\" --num-inference-steps 100"
      ],
      "metadata": {
        "colab": {
          "base_uri": "https://localhost:8080/"
        },
        "id": "rqOKQFC9nI1p",
        "outputId": "ea959470-f5c1-4dc6-fefc-0c816ce8d98a"
      },
      "execution_count": 8,
      "outputs": [
        {
          "output_type": "stream",
          "name": "stdout",
          "text": [
            "Using device: cuda\n",
            "100% 100/100 [01:02<00:00,  1.60it/s]\n"
          ]
        }
      ]
    },
    {
      "cell_type": "markdown",
      "source": [
        "## Image-to-Image Generation"
      ],
      "metadata": {
        "id": "_91D8WsqqyqT"
      }
    },
    {
      "cell_type": "code",
      "source": [
        "!python src/inference.py --prompt \"people of earth leaving to mars using flying cars\" --image-path=\"/content/stable_diffusion_pytorch/output_image.jpg\" --num-inference-steps 100"
      ],
      "metadata": {
        "id": "gWteaR09qbo-"
      },
      "execution_count": null,
      "outputs": []
    }
  ]
}