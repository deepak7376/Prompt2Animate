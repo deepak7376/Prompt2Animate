{
  "cells": [
    {
      "cell_type": "markdown",
      "metadata": {},
      "source": [
        "[![Open In Colab](https://colab.research.google.com/assets/colab-badge.svg)](https://colab.research.google.com/drive/1BnVF0r90gRiR5uOg0e71b0kjWEtaNM5C?usp=sharing)"
      ]
    },
    {
      "cell_type": "code",
      "execution_count": 1,
      "metadata": {
        "colab": {
          "base_uri": "https://localhost:8080/"
        },
        "id": "i4Pb3vcrmKOO",
        "outputId": "54119f4c-a64a-4a66-e66e-11d47682adec"
      },
      "outputs": [
        {
          "name": "stdout",
          "output_type": "stream",
          "text": [
            "Cloning into 'stable_diffusion_pytorch'...\n",
            "remote: Enumerating objects: 56, done.\u001b[K\n",
            "remote: Counting objects: 100% (56/56), done.\u001b[K\n",
            "remote: Compressing objects: 100% (41/41), done.\u001b[K\n",
            "remote: Total 56 (delta 12), reused 46 (delta 8), pack-reused 0\u001b[K\n",
            "Receiving objects: 100% (56/56), 2.04 MiB | 5.55 MiB/s, done.\n",
            "Resolving deltas: 100% (12/12), done.\n"
          ]
        }
      ],
      "source": [
        "!git clone https://github.com/deepak7376/stable_diffusion_pytorch.git"
      ]
    },
    {
      "cell_type": "code",
      "execution_count": null,
      "metadata": {
        "id": "29m8tG_1mYd6"
      },
      "outputs": [],
      "source": [
        "!pip install -r requirements.txt"
      ]
    },
    {
      "cell_type": "code",
      "execution_count": 2,
      "metadata": {
        "colab": {
          "base_uri": "https://localhost:8080/"
        },
        "id": "k9P26CLNmPW1",
        "outputId": "71b24643-e0f2-4237-e79f-fdbd4f9b8762"
      },
      "outputs": [
        {
          "name": "stdout",
          "output_type": "stream",
          "text": [
            "Contents of current directory:\n",
            "['.config', 'stable_diffusion_pytorch', 'sample_data']\n",
            "\n",
            "Contents of the new directory:\n",
            "['requirements.txt', '.gitignore', 'src', '.git', 'data', 'notebooks', 'version.py', 'setup.py', 'README.md', 'LICENSE', 'saved_models', 'assets']\n"
          ]
        }
      ],
      "source": [
        "import os\n",
        "\n",
        "# List contents of the current directory\n",
        "print(\"Contents of current directory:\")\n",
        "print(os.listdir('.'))\n",
        "\n",
        "# Change directory\n",
        "os.chdir('/content/stable_diffusion_pytorch')\n",
        "\n",
        "# List contents of the new directory\n",
        "print(\"\\nContents of the new directory:\")\n",
        "print(os.listdir('.'))"
      ]
    },
    {
      "cell_type": "markdown",
      "metadata": {
        "id": "VkmutkIZqN8O"
      },
      "source": [
        "## Text-to-Image Generation"
      ]
    },
    {
      "cell_type": "code",
      "execution_count": 8,
      "metadata": {
        "colab": {
          "base_uri": "https://localhost:8080/"
        },
        "id": "rqOKQFC9nI1p",
        "outputId": "ea959470-f5c1-4dc6-fefc-0c816ce8d98a"
      },
      "outputs": [
        {
          "name": "stdout",
          "output_type": "stream",
          "text": [
            "Using device: cuda\n",
            "100% 100/100 [01:02<00:00,  1.60it/s]\n"
          ]
        }
      ],
      "source": [
        "!python src/inference.py --prompt \"people of earth leaving to mars\" --num-inference-steps 100"
      ]
    },
    {
      "cell_type": "markdown",
      "metadata": {
        "id": "_91D8WsqqyqT"
      },
      "source": [
        "## Image-to-Image Generation"
      ]
    },
    {
      "cell_type": "code",
      "execution_count": null,
      "metadata": {
        "id": "gWteaR09qbo-"
      },
      "outputs": [],
      "source": [
        "!python src/inference.py --prompt \"people of earth leaving to mars using flying cars\" --image-path=\"/content/stable_diffusion_pytorch/output_image.jpg\" --num-inference-steps 100"
      ]
    }
  ],
  "metadata": {
    "accelerator": "GPU",
    "colab": {
      "gpuType": "T4",
      "provenance": []
    },
    "kernelspec": {
      "display_name": "Python 3",
      "name": "python3"
    },
    "language_info": {
      "name": "python"
    }
  },
  "nbformat": 4,
  "nbformat_minor": 0
}
